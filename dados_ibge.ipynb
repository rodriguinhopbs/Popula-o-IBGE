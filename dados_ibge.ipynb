{
 "cells": [
  {
   "cell_type": "code",
   "execution_count": null,
   "id": "initial_id",
   "metadata": {
    "ExecuteTime": {
     "end_time": "2024-04-22T17:19:11.712209Z",
     "start_time": "2024-04-22T17:19:11.702540Z"
    }
   },
   "outputs": [],
   "source": [
    "import json\n",
    "import time\n",
    "import pandas as pd\n",
    "import requests\n",
    "from sqlalchemy import create_engine\n",
    "import os\n",
    "from dotenv import load_dotenv\n",
    "load_dotenv(dotenv_path='../.env')\n",
    "print('Bibliotecas importadas')"
   ]
  },
  {
   "cell_type": "code",
   "execution_count": null,
   "id": "e5454a61",
   "metadata": {
    "ExecuteTime": {
     "end_time": "2024-04-22T17:19:18.093512Z",
     "start_time": "2024-04-22T17:19:13.114072Z"
    }
   },
   "outputs": [],
   "source": [
    "SQLALCHEMY = os.environ.get('SQLALCHEMY_HOMOLOGACAO')\n",
    "\n",
    "try:\n",
    "    engine = create_engine(SQLALCHEMY)\n",
    "    conn_hom = engine.connect()\n",
    "    print('Conexão com banco de dados criada...')\n",
    "except:\n",
    "    print('Falha ao criar conexão com banco de dados.')"
   ]
  },
  {
   "cell_type": "code",
   "execution_count": null,
   "id": "4bd7265e",
   "metadata": {
    "ExecuteTime": {
     "end_time": "2024-04-22T17:19:18.102419Z",
     "start_time": "2024-04-22T17:19:18.093512Z"
    },
    "scrolled": true
   },
   "outputs": [],
   "source": [
    "print(SQLALCHEMY)"
   ]
  },
  {
   "cell_type": "code",
   "execution_count": null,
   "id": "3136d88d60af71db",
   "metadata": {
    "ExecuteTime": {
     "end_time": "2024-04-22T17:25:43.000662Z",
     "start_time": "2024-04-22T17:25:28.295785Z"
    }
   },
   "outputs": [],
   "source": [
    "dfpesquisa = pd.read_json(\"https://servicodados.ibge.gov.br/api/v3/agregados?nivel=N6\")"
   ]
  },
  {
   "cell_type": "code",
   "execution_count": null,
   "id": "db75e5bb4bafb512",
   "metadata": {
    "ExecuteTime": {
     "end_time": "2024-04-22T17:25:43.145411Z",
     "start_time": "2024-04-22T17:25:43.000662Z"
    }
   },
   "outputs": [],
   "source": [
    "dfpesquisa"
   ]
  },
  {
   "cell_type": "code",
   "execution_count": null,
   "id": "ee8cb28ce89180b1",
   "metadata": {
    "ExecuteTime": {
     "end_time": "2024-04-22T17:26:47.022546Z",
     "start_time": "2024-04-22T17:26:47.014633Z"
    }
   },
   "outputs": [],
   "source": [
    "df_dim_pesquisa = dfpesquisa[['id','nome']]"
   ]
  },
  {
   "cell_type": "code",
   "execution_count": null,
   "id": "46e04107c47e1e00",
   "metadata": {
    "ExecuteTime": {
     "end_time": "2024-04-22T17:26:47.531059Z",
     "start_time": "2024-04-22T17:26:47.514108Z"
    }
   },
   "outputs": [],
   "source": [
    "df_dim_pesquisa"
   ]
  },
  {
   "cell_type": "code",
   "execution_count": null,
   "id": "31042dd6c56e9919",
   "metadata": {
    "ExecuteTime": {
     "end_time": "2024-04-22T17:26:53.580368Z",
     "start_time": "2024-04-22T17:26:53.574778Z"
    }
   },
   "outputs": [],
   "source": [
    "list_pesquisas = {'CD'}"
   ]
  },
  {
   "cell_type": "code",
   "execution_count": null,
   "id": "202df8edc8fe3418",
   "metadata": {
    "ExecuteTime": {
     "end_time": "2024-04-22T17:26:54.240912Z",
     "start_time": "2024-04-22T17:26:54.231798Z"
    }
   },
   "outputs": [],
   "source": [
    "list_pesquisas"
   ]
  },
  {
   "cell_type": "code",
   "execution_count": null,
   "id": "d8e455e824f47dfa",
   "metadata": {
    "ExecuteTime": {
     "end_time": "2024-04-22T17:26:58.899600Z",
     "start_time": "2024-04-22T17:26:58.877119Z"
    }
   },
   "outputs": [],
   "source": [
    "df_dim_agregados = pd.DataFrame(columns=['id','nome'])\n",
    "for i, row in dfpesquisa.iterrows():\n",
    "    if row['id'] in list_pesquisas:\n",
    "        df_temp = pd.json_normalize(row['agregados'])\n",
    "        df_temp['pesquisa'] = row['id']\n",
    "        df_dim_agregados = pd.concat([df_dim_agregados,df_temp])\n",
    "    "
   ]
  },
  {
   "cell_type": "code",
   "execution_count": null,
   "id": "f7063959af49eff1",
   "metadata": {
    "ExecuteTime": {
     "end_time": "2024-04-22T17:26:59.676359Z",
     "start_time": "2024-04-22T17:26:59.652031Z"
    }
   },
   "outputs": [],
   "source": [
    "df_dim_agregados.to_csv(\"dim_agregados_a_pesquisar.csv\")"
   ]
  },
  {
   "cell_type": "code",
   "execution_count": null,
   "id": "bfe354bbf4d74fcd",
   "metadata": {
    "ExecuteTime": {
     "end_time": "2024-04-22T17:27:41.766685Z",
     "start_time": "2024-04-22T17:27:41.747720Z"
    }
   },
   "outputs": [],
   "source": [
    "df_dim_agregados"
   ]
  },
  {
   "cell_type": "code",
   "execution_count": null,
   "id": "6d82efa467b935f4",
   "metadata": {
    "ExecuteTime": {
     "end_time": "2024-04-22T17:27:04.075733Z",
     "start_time": "2024-04-22T17:27:04.053816Z"
    }
   },
   "outputs": [],
   "source": [
    "lista_a_pesquisar = list(df_dim_agregados['id'])\n",
    "lista_a_pesquisar"
   ]
  },
  {
   "cell_type": "code",
   "execution_count": null,
   "id": "603a579c",
   "metadata": {
    "ExecuteTime": {
     "end_time": "2024-04-22T17:27:08.256753Z",
     "start_time": "2024-04-22T17:27:08.244124Z"
    }
   },
   "outputs": [],
   "source": [
    "municipios = [\n",
    "    {\"municipio\": \"Curionópolis\", \"codigo_ibge\": \"1502772\"},\n",
    "    {\"municipio\": \"Parauapebas\", \"codigo_ibge\": \"1505536\"},\n",
    "    {\"municipio\": \"Canaã dos Carajás\", \"codigo_ibge\": \"1502152\"},\n",
    "    {\"municipio\": \"Eldorado do Carajás\", \"codigo_ibge\": \"1502954\"},\n",
    "    {\"municipio\": \"Água Azul do Norte\", \"codigo_ibge\": \"1500347\"}\n",
    "]"
   ]
  },
  {
   "cell_type": "markdown",
   "id": "13c5c0de",
   "metadata": {
    "ExecuteTime": {
     "end_time": "2024-02-06T14:01:47.820409500Z",
     "start_time": "2024-02-06T14:01:47.801273900Z"
    }
   },
   "source": [
    "def get_base(id):\n",
    "    time.sleep(2)\n",
    "    url = f\"https://servicodados.ibge.gov.br/api/v3/agregados/{id}/periodos/-30/variaveis?localidades=N6[1505536]\"\n",
    "    payload = {}\n",
    "    headers = {}\n",
    "    response = requests.request(\"GET\", url, headers=headers, data=payload, timeout=10)\n",
    "    return response.json()"
   ]
  },
  {
   "cell_type": "code",
   "execution_count": null,
   "id": "283b994f",
   "metadata": {
    "ExecuteTime": {
     "end_time": "2024-02-15T14:20:47.432917900Z",
     "start_time": "2024-02-15T14:20:47.424410700Z"
    }
   },
   "outputs": [],
   "source": [
    "def get_base(id, mun):\n",
    "    retries = 3  # Número de tentativas\n",
    "    delay = 2  # Tempo de espera entre tentativas\n",
    "    for _ in range(retries):\n",
    "        try:\n",
    "            url = f\"https://servicodados.ibge.gov.br/api/v3/agregados/{id}/periodos/-30/variaveis?localidades=N6[{mun}]\"\n",
    "            response = requests.get(url, timeout=10)\n",
    "            response.raise_for_status()  # Lança uma exceção se a resposta indicar um erro HTTP\n",
    "            return response.json()\n",
    "        except (requests.RequestException, ValueError) as e:\n",
    "            print(f\"Erro ao fazer a requisição: {e}\")\n",
    "            time.sleep(delay)\n",
    "            continue\n",
    "    print(f\"Falha nas tentativas de solicitação após várias tentativas. {id}\")\n",
    "    return \"ERRO\"  # Ou levante uma exceção, dependendo do comportamento desejado"
   ]
  },
  {
   "cell_type": "markdown",
   "id": "a790a1bc",
   "metadata": {
    "ExecuteTime": {
     "end_time": "2024-02-06T14:01:51.394142900Z",
     "start_time": "2024-02-06T14:01:51.369017700Z"
    }
   },
   "source": [
    "def get_base_classificacao(id,C):\n",
    "    time.sleep(3)\n",
    "    url = f\"https://servicodados.ibge.gov.br/api/v3/agregados/{id}/periodos/-30/variaveis?classificacao={C}&localidades=N6[1505536]\"\n",
    "    payload = {}\n",
    "    headers = {}\n",
    "    response = requests.request(\"GET\", url, headers=headers, data=payload, timeout=10)\n",
    "    return response.json()"
   ]
  },
  {
   "cell_type": "code",
   "execution_count": null,
   "id": "474e6b88",
   "metadata": {
    "ExecuteTime": {
     "end_time": "2024-02-15T14:20:50.724269100Z",
     "start_time": "2024-02-15T14:20:50.713880Z"
    }
   },
   "outputs": [],
   "source": [
    "def get_base_classificacao(id,C,mun):\n",
    "    retries = 3  # Número de tentativas\n",
    "    delay = 2  # Tempo de espera entre tentativas\n",
    "    for _ in range(retries):\n",
    "        try:\n",
    "            url = f\"https://servicodados.ibge.gov.br/api/v3/agregados/{id}/periodos/-30/variaveis?classificacao={C}&localidades=N6[{mun}]\"\n",
    "            response = requests.get(url, timeout=10)\n",
    "            response.raise_for_status()  # Lança uma exceção se a resposta indicar um erro HTTP\n",
    "            return response.json()\n",
    "        except (requests.RequestException, ValueError) as e:\n",
    "            print(f\"Erro ao fazer a requisição: {e}\")\n",
    "            time.sleep(delay)\n",
    "            continue\n",
    "    print(f\"Falha nas tentativas de solicitação após várias tentativas. {id}, classificação: {C}\")\n",
    "    return \"ERRO\"  # Ou levante uma exceção, dependendo do comportamento desejado"
   ]
  },
  {
   "cell_type": "code",
   "execution_count": null,
   "id": "4c6505e072578147",
   "metadata": {
    "ExecuteTime": {
     "end_time": "2024-02-15T13:08:08.056840200Z",
     "start_time": "2024-02-15T13:08:07.856211600Z"
    }
   },
   "outputs": [],
   "source": [
    "#lista_a_pesquisar = ['200']"
   ]
  },
  {
   "cell_type": "code",
   "execution_count": null,
   "id": "23187ba32a6c607b",
   "metadata": {
    "ExecuteTime": {
     "end_time": "2024-02-15T14:22:44.722949700Z",
     "start_time": "2024-02-15T14:20:56.244807200Z"
    }
   },
   "outputs": [],
   "source": [
    "base2 = pd.DataFrame()\n",
    "for mun in municipios:\n",
    "    for x in lista_a_pesquisar:\n",
    "        print(f\"Executando Laços na pesquisa: {x}\")\n",
    "        base = get_base(x, mun['codigo_ibge'])\n",
    "        if(base != \"ERRO\"):\n",
    "            for i in base:\n",
    "                print(i)\n",
    "                resultados = i.get(\"resultados\", [])\n",
    "                unidade = i.get(\"unidade\")\n",
    "                variavel = i.get(\"variavel\")\n",
    "                id = i.get(\"id\")\n",
    "                for resultado in resultados:\n",
    "                    classificacoes = resultado.get(\"classificacoes\", [])\n",
    "                    series = resultado.get(\"series\", [])\n",
    "                    if classificacoes:\n",
    "                        for classificacao in classificacoes:\n",
    "                            json = get_base_classificacao(x,classificacao.get(\"id\"),mun['codigo_ibge'])\n",
    "                            for j in json:                        \n",
    "                                variavel = j.get(\"variavel\")\n",
    "                                resultados = j.get(\"resultados\", [])\n",
    "                                unidade = j.get(\"unidade\")\n",
    "                                id = j.get(\"id\")\n",
    "                                for resultado in resultados:\n",
    "                                    series = resultado.get(\"series\", [])\n",
    "                                    classificacao = resultado.get(\"classificacoes\",[])[0]\n",
    "                                    classificacao_int = classificacao['nome']\n",
    "                                    categoria_int = list(classificacao['categoria'].values())[0]\n",
    "                                    # for classificacao in classificacoes:\n",
    "                                    #     print(list(classificacao['categoria'].values())[0])\n",
    "                                    for serie in series:\n",
    "                                        print(serie.get(\"serie\"))\n",
    "                                        temp = pd.DataFrame(list(serie.get(\"serie\").items()), columns=['Ano', 'Valor'])\n",
    "                                        temp['id_agregado'] = x\n",
    "                                        temp['unidade'] = unidade\n",
    "                                        temp['variavel'] = variavel\n",
    "                                        temp['id'] = id\n",
    "                                        temp['classificacao'] = classificacao_int\n",
    "                                        temp['categoria'] = categoria_int\n",
    "                                        temp['municipio'] = mun['municipio']\n",
    "                                        temp['codigo_ibge'] = mun['codigo_ibge']\n",
    "                                        base2 = pd.concat([base2,temp])                            \n",
    "                    else:\n",
    "                        print(\"Não tem classificação\")\n",
    "                        for serie in series:\n",
    "                            print(serie.get(\"serie\"))\n",
    "                            temp = pd.DataFrame(list(serie.get(\"serie\").items()), columns=['Ano', 'Valor'])\n",
    "                            temp['id_agregado'] = x\n",
    "                            temp['unidade'] = unidade\n",
    "                            temp['variavel'] = variavel\n",
    "                            temp['id'] = id\n",
    "                            temp['municipio'] = mun['municipio']\n",
    "                            temp['codigo_ibge'] = mun['codigo_ibge']\n",
    "                            base2 = pd.concat([base2,temp])"
   ]
  },
  {
   "cell_type": "code",
   "execution_count": null,
   "id": "2b36ac04",
   "metadata": {
    "ExecuteTime": {
     "end_time": "2024-02-15T14:01:25.535526100Z",
     "start_time": "2024-02-15T14:01:25.478052900Z"
    }
   },
   "outputs": [],
   "source": [
    "base2"
   ]
  },
  {
   "cell_type": "code",
   "execution_count": null,
   "id": "9be76b6672d548aa",
   "metadata": {
    "ExecuteTime": {
     "end_time": "2024-02-15T14:19:49.115720300Z",
     "start_time": "2024-02-15T14:19:49.085717700Z"
    }
   },
   "outputs": [],
   "source": [
    "base2.rename(columns={'Ano': 'ano', 'Valor': 'valor'}, inplace=True)"
   ]
  },
  {
   "cell_type": "code",
   "execution_count": null,
   "id": "d8b08218",
   "metadata": {},
   "outputs": [],
   "source": [
    "base = base2.drop_duplicates()"
   ]
  },
  {
   "cell_type": "code",
   "execution_count": null,
   "id": "2413d80e",
   "metadata": {},
   "outputs": [],
   "source": [
    "base"
   ]
  },
  {
   "cell_type": "code",
   "execution_count": null,
   "id": "b622e6cdd834e9a2",
   "metadata": {
    "ExecuteTime": {
     "end_time": "2024-02-15T14:19:49.757896900Z",
     "start_time": "2024-02-15T14:19:49.738148Z"
    }
   },
   "outputs": [],
   "source": [
    "base['last_update'] = pd.Timestamp.now()"
   ]
  },
  {
   "cell_type": "code",
   "execution_count": null,
   "id": "735c9ab07b49c479",
   "metadata": {
    "ExecuteTime": {
     "end_time": "2024-02-15T14:19:50.372694100Z",
     "start_time": "2024-02-15T14:19:50.335411Z"
    }
   },
   "outputs": [],
   "source": [
    "base.to_csv('IO.csv')"
   ]
  },
  {
   "cell_type": "code",
   "execution_count": null,
   "id": "e865cea2",
   "metadata": {},
   "outputs": [],
   "source": [
    "base"
   ]
  },
  {
   "cell_type": "code",
   "execution_count": null,
   "id": "6dd5d547a187424a",
   "metadata": {
    "ExecuteTime": {
     "end_time": "2024-02-06T14:27:57.522905400Z",
     "start_time": "2024-02-06T14:27:56.293669900Z"
    }
   },
   "outputs": [],
   "source": [
    "base.to_sql('ibge_variaveis_pbs_base', schema='pesquisas_ibge', con=conn_hom, if_exists='append', index=False, method='multi', )"
   ]
  }
 ],
 "metadata": {
  "kernelspec": {
   "display_name": "Python 3 (ipykernel)",
   "language": "python",
   "name": "python3"
  },
  "language_info": {
   "codemirror_mode": {
    "name": "ipython",
    "version": 3
   },
   "file_extension": ".py",
   "mimetype": "text/x-python",
   "name": "python",
   "nbconvert_exporter": "python",
   "pygments_lexer": "ipython3",
   "version": "0.0.0"
  }
 },
 "nbformat": 4,
 "nbformat_minor": 5
}
