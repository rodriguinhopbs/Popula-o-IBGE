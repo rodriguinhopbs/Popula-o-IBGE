{
 "cells": [
  {
   "cell_type": "code",
   "execution_count": null,
   "metadata": {
    "ExecuteTime": {
     "end_time": "2024-05-28T01:45:36.151293Z",
     "start_time": "2024-05-28T01:45:35.275489Z"
    }
   },
   "outputs": [],
   "source": [
    "import json\n",
    "import pandas as pd\n",
    "import requests\n",
    "from sqlalchemy import create_engine\n",
    "import os\n",
    "from dotenv import load_dotenv\n",
    "load_dotenv(dotenv_path='../.env')\n",
    "print('Bibliotecas importadas')"
   ]
  },
  {
   "cell_type": "code",
   "execution_count": null,
   "metadata": {
    "ExecuteTime": {
     "end_time": "2024-05-28T01:45:39.606848Z",
     "start_time": "2024-05-28T01:45:39.599397Z"
    }
   },
   "outputs": [],
   "source": [
    "#municipios = \"'Paraupebas'|'Maraba'|'Curionópolis'|'Canãa dos Carajas'|'Água Azul do Norte'|'Eldorado dos Carajas'\n",
    "municipios = \"1505536|1504208|1502772|1502152|1500347|1502954\""
   ]
  },
  {
   "cell_type": "code",
   "execution_count": null,
   "metadata": {
    "ExecuteTime": {
     "end_time": "2024-05-28T01:45:40.623793Z",
     "start_time": "2024-05-28T01:45:40.617436Z"
    }
   },
   "outputs": [],
   "source": [
    "url = f\"https://servicodados.ibge.gov.br/api/v3/agregados/9606/periodos/-30/variaveis?localidades={municipios}&classificacao=287|2|86\""
   ]
  },
  {
   "cell_type": "code",
   "execution_count": null,
   "metadata": {
    "ExecuteTime": {
     "end_time": "2024-05-28T01:45:41.663561Z",
     "start_time": "2024-05-28T01:45:41.657410Z"
    }
   },
   "outputs": [],
   "source": [
    "print(url)"
   ]
  },
  {
   "cell_type": "code",
   "execution_count": null,
   "metadata": {
    "ExecuteTime": {
     "end_time": "2024-05-28T01:45:44.261554Z",
     "start_time": "2024-05-28T01:45:42.676677Z"
    }
   },
   "outputs": [],
   "source": [
    "payload = {}\n",
    "headers = {}\n",
    "\n",
    "response = requests.request(\"GET\", url, headers=headers, data=payload)\n",
    "\n",
    "print(response.text)"
   ]
  },
  {
   "cell_type": "code",
   "execution_count": null,
   "metadata": {},
   "outputs": [],
   "source": [
    "data = json.loads(response.text)"
   ]
  },
  {
   "cell_type": "code",
   "execution_count": null,
   "metadata": {},
   "outputs": [],
   "source": [
    "# Provided JSON data\n",
    "# Deserializing into tables\n",
    "tables = []\n",
    "for item in data:\n",
    "    for result in item['resultados']:\n",
    "        classification = {classif['nome']: list(classif['categoria'].values())[0] for classif in result['classificacoes']}\n",
    "        for serie in result['series']:\n",
    "            series_data = serie['serie']\n",
    "            localidade = serie['localidade']\n",
    "            table_data = {**classification, **series_data, **localidade}\n",
    "            tables.append(table_data)\n",
    "\n",
    "# Converting tables to DataFrame\n",
    "df = pd.DataFrame(tables)\n",
    "print(df)\n"
   ]
  },
  {
   "cell_type": "code",
   "execution_count": null,
   "metadata": {},
   "outputs": [],
   "source": [
    "df_base = df.melt(id_vars=['Idade', 'Sexo', 'Cor ou raça','id','nome'], var_name='ano', value_name='valor')"
   ]
  },
  {
   "cell_type": "code",
   "execution_count": null,
   "metadata": {},
   "outputs": [],
   "source": [
    "df_base"
   ]
  },
  {
   "cell_type": "code",
   "execution_count": null,
   "metadata": {},
   "outputs": [],
   "source": [
    "df_base.rename(columns={'Idade': 'idade', 'Sexo': 'sexo', 'Cor ou raça': 'cor_ou_raca', 'ano': 'ano', 'valor': 'valor', 'id':'id_ibge','nome':'municipio'}, inplace=True)"
   ]
  },
  {
   "cell_type": "code",
   "execution_count": null,
   "metadata": {},
   "outputs": [],
   "source": [
    "#df_base.drop_duplicates(inplace=True)"
   ]
  },
  {
   "cell_type": "code",
   "execution_count": null,
   "metadata": {},
   "outputs": [],
   "source": [
    "df_base"
   ]
  },
  {
   "cell_type": "code",
   "execution_count": null,
   "metadata": {},
   "outputs": [],
   "source": [
    "#removendo valores nulos\n",
    "df_base = df_base[df_base['valor'] != '-']\n",
    "#removendo idades totais\n",
    "df_base = df_base[df_base['idade'] != 'Total']\n",
    "#removendo sexo total\n",
    "df_base = df_base[df_base['sexo'] != 'Total']\n",
    "#removendo cor ou raça total\n",
    "df_base = df_base[df_base['cor_ou_raca'] != 'Total']\n",
    "#remover nivel\n",
    "df_base = df_base[df_base['ano'] != 'nivel']\n"
   ]
  },
  {
   "cell_type": "code",
   "execution_count": null,
   "metadata": {},
   "outputs": [],
   "source": [
    "df_base"
   ]
  },
  {
   "cell_type": "code",
   "execution_count": null,
   "metadata": {},
   "outputs": [],
   "source": [
    "# #removendo valores nulos\n",
    "# df_t = df_base[df_base['valor'] != '-']\n",
    "# #removendo idades totais\n",
    "# df_t = df_t[df_t['idade'] == 'Total']\n",
    "# #removendo sexo total\n",
    "# df_t = df_t[df_t['sexo'] == 'Total']\n",
    "# #removendo cor ou raça total\n",
    "# df_t = df_t[df_t['cor_ou_raca'] == 'Total']\n"
   ]
  },
  {
   "cell_type": "markdown",
   "metadata": {},
   "source": []
  },
  {
   "cell_type": "code",
   "execution_count": null,
   "metadata": {},
   "outputs": [],
   "source": [
    "#df_t"
   ]
  },
  {
   "cell_type": "code",
   "execution_count": null,
   "metadata": {},
   "outputs": [],
   "source": [
    "df_base.drop_duplicates(inplace=True)"
   ]
  },
  {
   "cell_type": "code",
   "execution_count": null,
   "metadata": {},
   "outputs": [],
   "source": [
    "df_base"
   ]
  },
  {
   "cell_type": "code",
   "execution_count": null,
   "metadata": {},
   "outputs": [],
   "source": [
    "df_base['tipo_intervalo'] = df_base['idade'].apply(lambda x: True if ' a ' in x or ' ou mais' in x else False)\n"
   ]
  },
  {
   "cell_type": "code",
   "execution_count": null,
   "metadata": {},
   "outputs": [],
   "source": [
    "df_base"
   ]
  },
  {
   "cell_type": "code",
   "execution_count": null,
   "metadata": {},
   "outputs": [],
   "source": [
    "SQLALCHEMY = os.environ.get('SQLALCHEMY_PRODUCAO')\n",
    "\n",
    "try:\n",
    "    engine = create_engine(SQLALCHEMY)\n",
    "    conn_hom = engine.connect()\n",
    "    print('Conexão com banco de dados criada...')\n",
    "except Exception as e:\n",
    "    print(f'Falha ao criar conexão com banco de dados. {e}')"
   ]
  },
  {
   "cell_type": "code",
   "execution_count": null,
   "metadata": {},
   "outputs": [],
   "source": [
    "df_base.to_csv('ibge_dados_mun.csv', index=False)"
   ]
  },
  {
   "cell_type": "code",
   "execution_count": null,
   "metadata": {},
   "outputs": [],
   "source": [
    "df_base.to_sql('ibge_população_residente_segregado', schema='perfil_populacional', con=conn_hom, if_exists='append', index=False, method='multi' )"
   ]
  },
  {
   "cell_type": "code",
   "execution_count": null,
   "metadata": {},
   "outputs": [],
   "source": []
  }
 ],
 "metadata": {
  "kernelspec": {
   "display_name": "base",
   "language": "python",
   "name": "python3"
  },
  "language_info": {
   "codemirror_mode": {
    "name": "ipython",
    "version": 3
   },
   "file_extension": ".py",
   "mimetype": "text/x-python",
   "name": "python",
   "nbconvert_exporter": "python",
   "pygments_lexer": "ipython3",
   "version": "3.12.2"
  }
 },
 "nbformat": 4,
 "nbformat_minor": 2
}
